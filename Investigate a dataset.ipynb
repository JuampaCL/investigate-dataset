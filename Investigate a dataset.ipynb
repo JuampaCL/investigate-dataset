{
 "cells": [
  {
   "cell_type": "markdown",
   "metadata": {},
   "source": [
    "### Analyzing \"Medical Appointment No Shows\"\n",
    "\n",
    "\n",
    "#### This notebook will visualize what information is content in the health appointments and the relation with no show events. \n",
    "#### There is some variables that can be useful to understand what makes (or not) to people from attend or not to their health appointments. In this notebook, you will visualize those behaviour along with some conclusions about that.\n",
    "#### There is some problems with the age field, so this code handle that data wranglid, but in general there is no nan values or similar"
   ]
  },
  {
   "cell_type": "code",
   "execution_count": 1,
   "metadata": {},
   "outputs": [
    {
     "name": "stdout",
     "output_type": "stream",
     "text": [
      "--------------------------------------------------------------------------------\n"
     ]
    }
   ],
   "source": [
    "print (\"-\"*80)"
   ]
  },
  {
   "cell_type": "markdown",
   "metadata": {},
   "source": [
    "## There is some questions that emerge from simple data inspecting through the variables\n",
    "#### Research questions:\n",
    "#### - Is Age variable, making any difference on no-show data?\n",
    "#### - Maybe women are more conscient of their health issues?\n",
    "#### - Is the scholarship making to people take care of their health, showing more often in the appointments?"
   ]
  },
  {
   "cell_type": "code",
   "execution_count": 1,
   "metadata": {},
   "outputs": [],
   "source": [
    "import pandas as pd\n",
    "import numpy as np\n",
    "import matplotlib.pyplot as plt\n",
    "import matplotlib.ticker as ticker\n",
    "import seaborn as sns\n",
    "import time\n",
    "\n",
    "%matplotlib inline\n",
    "\n",
    "pd.options.display.max_rows = 200\n",
    "\n",
    "ns = pd.read_csv(\"KaggleV2-May-2016.csv\")\n"
   ]
  },
  {
   "cell_type": "code",
   "execution_count": 5,
   "metadata": {},
   "outputs": [
    {
     "data": {
      "text/html": [
       "<div>\n",
       "<style scoped>\n",
       "    .dataframe tbody tr th:only-of-type {\n",
       "        vertical-align: middle;\n",
       "    }\n",
       "\n",
       "    .dataframe tbody tr th {\n",
       "        vertical-align: top;\n",
       "    }\n",
       "\n",
       "    .dataframe thead th {\n",
       "        text-align: right;\n",
       "    }\n",
       "</style>\n",
       "<table border=\"1\" class=\"dataframe\">\n",
       "  <thead>\n",
       "    <tr style=\"text-align: right;\">\n",
       "      <th></th>\n",
       "      <th>PatientId</th>\n",
       "      <th>AppointmentID</th>\n",
       "      <th>Gender</th>\n",
       "      <th>ScheduledDay</th>\n",
       "      <th>AppointmentDay</th>\n",
       "      <th>Age</th>\n",
       "      <th>Neighbourhood</th>\n",
       "      <th>Scholarship</th>\n",
       "      <th>Hipertension</th>\n",
       "      <th>Diabetes</th>\n",
       "      <th>Alcoholism</th>\n",
       "      <th>Handcap</th>\n",
       "      <th>SMS_received</th>\n",
       "      <th>No-show</th>\n",
       "    </tr>\n",
       "  </thead>\n",
       "  <tbody>\n",
       "    <tr>\n",
       "      <th>0</th>\n",
       "      <td>2.987250e+13</td>\n",
       "      <td>5642903</td>\n",
       "      <td>F</td>\n",
       "      <td>2016-04-29T18:38:08Z</td>\n",
       "      <td>2016-04-29T00:00:00Z</td>\n",
       "      <td>62</td>\n",
       "      <td>JARDIM DA PENHA</td>\n",
       "      <td>0</td>\n",
       "      <td>1</td>\n",
       "      <td>0</td>\n",
       "      <td>0</td>\n",
       "      <td>0</td>\n",
       "      <td>0</td>\n",
       "      <td>No</td>\n",
       "    </tr>\n",
       "    <tr>\n",
       "      <th>1</th>\n",
       "      <td>5.589978e+14</td>\n",
       "      <td>5642503</td>\n",
       "      <td>M</td>\n",
       "      <td>2016-04-29T16:08:27Z</td>\n",
       "      <td>2016-04-29T00:00:00Z</td>\n",
       "      <td>56</td>\n",
       "      <td>JARDIM DA PENHA</td>\n",
       "      <td>0</td>\n",
       "      <td>0</td>\n",
       "      <td>0</td>\n",
       "      <td>0</td>\n",
       "      <td>0</td>\n",
       "      <td>0</td>\n",
       "      <td>No</td>\n",
       "    </tr>\n",
       "    <tr>\n",
       "      <th>2</th>\n",
       "      <td>4.262962e+12</td>\n",
       "      <td>5642549</td>\n",
       "      <td>F</td>\n",
       "      <td>2016-04-29T16:19:04Z</td>\n",
       "      <td>2016-04-29T00:00:00Z</td>\n",
       "      <td>62</td>\n",
       "      <td>MATA DA PRAIA</td>\n",
       "      <td>0</td>\n",
       "      <td>0</td>\n",
       "      <td>0</td>\n",
       "      <td>0</td>\n",
       "      <td>0</td>\n",
       "      <td>0</td>\n",
       "      <td>No</td>\n",
       "    </tr>\n",
       "    <tr>\n",
       "      <th>3</th>\n",
       "      <td>8.679512e+11</td>\n",
       "      <td>5642828</td>\n",
       "      <td>F</td>\n",
       "      <td>2016-04-29T17:29:31Z</td>\n",
       "      <td>2016-04-29T00:00:00Z</td>\n",
       "      <td>8</td>\n",
       "      <td>PONTAL DE CAMBURI</td>\n",
       "      <td>0</td>\n",
       "      <td>0</td>\n",
       "      <td>0</td>\n",
       "      <td>0</td>\n",
       "      <td>0</td>\n",
       "      <td>0</td>\n",
       "      <td>No</td>\n",
       "    </tr>\n",
       "    <tr>\n",
       "      <th>4</th>\n",
       "      <td>8.841186e+12</td>\n",
       "      <td>5642494</td>\n",
       "      <td>F</td>\n",
       "      <td>2016-04-29T16:07:23Z</td>\n",
       "      <td>2016-04-29T00:00:00Z</td>\n",
       "      <td>56</td>\n",
       "      <td>JARDIM DA PENHA</td>\n",
       "      <td>0</td>\n",
       "      <td>1</td>\n",
       "      <td>1</td>\n",
       "      <td>0</td>\n",
       "      <td>0</td>\n",
       "      <td>0</td>\n",
       "      <td>No</td>\n",
       "    </tr>\n",
       "  </tbody>\n",
       "</table>\n",
       "</div>"
      ],
      "text/plain": [
       "      PatientId  AppointmentID Gender          ScheduledDay  \\\n",
       "0  2.987250e+13        5642903      F  2016-04-29T18:38:08Z   \n",
       "1  5.589978e+14        5642503      M  2016-04-29T16:08:27Z   \n",
       "2  4.262962e+12        5642549      F  2016-04-29T16:19:04Z   \n",
       "3  8.679512e+11        5642828      F  2016-04-29T17:29:31Z   \n",
       "4  8.841186e+12        5642494      F  2016-04-29T16:07:23Z   \n",
       "\n",
       "         AppointmentDay  Age      Neighbourhood  Scholarship  Hipertension  \\\n",
       "0  2016-04-29T00:00:00Z   62    JARDIM DA PENHA            0             1   \n",
       "1  2016-04-29T00:00:00Z   56    JARDIM DA PENHA            0             0   \n",
       "2  2016-04-29T00:00:00Z   62      MATA DA PRAIA            0             0   \n",
       "3  2016-04-29T00:00:00Z    8  PONTAL DE CAMBURI            0             0   \n",
       "4  2016-04-29T00:00:00Z   56    JARDIM DA PENHA            0             1   \n",
       "\n",
       "   Diabetes  Alcoholism  Handcap  SMS_received No-show  \n",
       "0         0           0        0             0      No  \n",
       "1         0           0        0             0      No  \n",
       "2         0           0        0             0      No  \n",
       "3         0           0        0             0      No  \n",
       "4         1           0        0             0      No  "
      ]
     },
     "metadata": {},
     "output_type": "display_data"
    },
    {
     "data": {
      "text/plain": [
       "(110527, 14)"
      ]
     },
     "metadata": {},
     "output_type": "display_data"
    }
   ],
   "source": [
    "display (ns.head())\n",
    "display (ns.shape)"
   ]
  },
  {
   "cell_type": "code",
   "execution_count": 6,
   "metadata": {},
   "outputs": [
    {
     "data": {
      "text/html": [
       "<div>\n",
       "<style scoped>\n",
       "    .dataframe tbody tr th:only-of-type {\n",
       "        vertical-align: middle;\n",
       "    }\n",
       "\n",
       "    .dataframe tbody tr th {\n",
       "        vertical-align: top;\n",
       "    }\n",
       "\n",
       "    .dataframe thead th {\n",
       "        text-align: right;\n",
       "    }\n",
       "</style>\n",
       "<table border=\"1\" class=\"dataframe\">\n",
       "  <thead>\n",
       "    <tr style=\"text-align: right;\">\n",
       "      <th></th>\n",
       "      <th>PatientId</th>\n",
       "      <th>AppointmentID</th>\n",
       "      <th>Age</th>\n",
       "      <th>Scholarship</th>\n",
       "      <th>Hipertension</th>\n",
       "      <th>Diabetes</th>\n",
       "      <th>Alcoholism</th>\n",
       "      <th>Handcap</th>\n",
       "      <th>SMS_received</th>\n",
       "    </tr>\n",
       "  </thead>\n",
       "  <tbody>\n",
       "    <tr>\n",
       "      <th>count</th>\n",
       "      <td>1.105270e+05</td>\n",
       "      <td>1.105270e+05</td>\n",
       "      <td>110527.000000</td>\n",
       "      <td>110527.000000</td>\n",
       "      <td>110527.000000</td>\n",
       "      <td>110527.000000</td>\n",
       "      <td>110527.000000</td>\n",
       "      <td>110527.000000</td>\n",
       "      <td>110527.000000</td>\n",
       "    </tr>\n",
       "    <tr>\n",
       "      <th>mean</th>\n",
       "      <td>1.474963e+14</td>\n",
       "      <td>5.675305e+06</td>\n",
       "      <td>37.088874</td>\n",
       "      <td>0.098266</td>\n",
       "      <td>0.197246</td>\n",
       "      <td>0.071865</td>\n",
       "      <td>0.030400</td>\n",
       "      <td>0.022248</td>\n",
       "      <td>0.321026</td>\n",
       "    </tr>\n",
       "    <tr>\n",
       "      <th>std</th>\n",
       "      <td>2.560949e+14</td>\n",
       "      <td>7.129575e+04</td>\n",
       "      <td>23.110205</td>\n",
       "      <td>0.297675</td>\n",
       "      <td>0.397921</td>\n",
       "      <td>0.258265</td>\n",
       "      <td>0.171686</td>\n",
       "      <td>0.161543</td>\n",
       "      <td>0.466873</td>\n",
       "    </tr>\n",
       "    <tr>\n",
       "      <th>min</th>\n",
       "      <td>3.921784e+04</td>\n",
       "      <td>5.030230e+06</td>\n",
       "      <td>-1.000000</td>\n",
       "      <td>0.000000</td>\n",
       "      <td>0.000000</td>\n",
       "      <td>0.000000</td>\n",
       "      <td>0.000000</td>\n",
       "      <td>0.000000</td>\n",
       "      <td>0.000000</td>\n",
       "    </tr>\n",
       "    <tr>\n",
       "      <th>25%</th>\n",
       "      <td>4.172614e+12</td>\n",
       "      <td>5.640286e+06</td>\n",
       "      <td>18.000000</td>\n",
       "      <td>0.000000</td>\n",
       "      <td>0.000000</td>\n",
       "      <td>0.000000</td>\n",
       "      <td>0.000000</td>\n",
       "      <td>0.000000</td>\n",
       "      <td>0.000000</td>\n",
       "    </tr>\n",
       "    <tr>\n",
       "      <th>50%</th>\n",
       "      <td>3.173184e+13</td>\n",
       "      <td>5.680573e+06</td>\n",
       "      <td>37.000000</td>\n",
       "      <td>0.000000</td>\n",
       "      <td>0.000000</td>\n",
       "      <td>0.000000</td>\n",
       "      <td>0.000000</td>\n",
       "      <td>0.000000</td>\n",
       "      <td>0.000000</td>\n",
       "    </tr>\n",
       "    <tr>\n",
       "      <th>75%</th>\n",
       "      <td>9.439172e+13</td>\n",
       "      <td>5.725524e+06</td>\n",
       "      <td>55.000000</td>\n",
       "      <td>0.000000</td>\n",
       "      <td>0.000000</td>\n",
       "      <td>0.000000</td>\n",
       "      <td>0.000000</td>\n",
       "      <td>0.000000</td>\n",
       "      <td>1.000000</td>\n",
       "    </tr>\n",
       "    <tr>\n",
       "      <th>max</th>\n",
       "      <td>9.999816e+14</td>\n",
       "      <td>5.790484e+06</td>\n",
       "      <td>115.000000</td>\n",
       "      <td>1.000000</td>\n",
       "      <td>1.000000</td>\n",
       "      <td>1.000000</td>\n",
       "      <td>1.000000</td>\n",
       "      <td>4.000000</td>\n",
       "      <td>1.000000</td>\n",
       "    </tr>\n",
       "  </tbody>\n",
       "</table>\n",
       "</div>"
      ],
      "text/plain": [
       "          PatientId  AppointmentID            Age    Scholarship  \\\n",
       "count  1.105270e+05   1.105270e+05  110527.000000  110527.000000   \n",
       "mean   1.474963e+14   5.675305e+06      37.088874       0.098266   \n",
       "std    2.560949e+14   7.129575e+04      23.110205       0.297675   \n",
       "min    3.921784e+04   5.030230e+06      -1.000000       0.000000   \n",
       "25%    4.172614e+12   5.640286e+06      18.000000       0.000000   \n",
       "50%    3.173184e+13   5.680573e+06      37.000000       0.000000   \n",
       "75%    9.439172e+13   5.725524e+06      55.000000       0.000000   \n",
       "max    9.999816e+14   5.790484e+06     115.000000       1.000000   \n",
       "\n",
       "        Hipertension       Diabetes     Alcoholism        Handcap  \\\n",
       "count  110527.000000  110527.000000  110527.000000  110527.000000   \n",
       "mean        0.197246       0.071865       0.030400       0.022248   \n",
       "std         0.397921       0.258265       0.171686       0.161543   \n",
       "min         0.000000       0.000000       0.000000       0.000000   \n",
       "25%         0.000000       0.000000       0.000000       0.000000   \n",
       "50%         0.000000       0.000000       0.000000       0.000000   \n",
       "75%         0.000000       0.000000       0.000000       0.000000   \n",
       "max         1.000000       1.000000       1.000000       4.000000   \n",
       "\n",
       "        SMS_received  \n",
       "count  110527.000000  \n",
       "mean        0.321026  \n",
       "std         0.466873  \n",
       "min         0.000000  \n",
       "25%         0.000000  \n",
       "50%         0.000000  \n",
       "75%         1.000000  \n",
       "max         1.000000  "
      ]
     },
     "metadata": {},
     "output_type": "display_data"
    },
    {
     "data": {
      "text/plain": [
       "count     110527\n",
       "unique         2\n",
       "top           No\n",
       "freq       88208\n",
       "Name: No-show, dtype: object"
      ]
     },
     "metadata": {},
     "output_type": "display_data"
    },
    {
     "data": {
      "text/plain": [
       "No     88208\n",
       "Yes    22319\n",
       "Name: No-show, dtype: int64"
      ]
     },
     "metadata": {},
     "output_type": "display_data"
    }
   ],
   "source": [
    "display( ns.describe())\n",
    "display( ns[\"No-show\"].describe())\n",
    "display( ns[\"No-show\"].value_counts())\n"
   ]
  },
  {
   "cell_type": "code",
   "execution_count": 7,
   "metadata": {},
   "outputs": [
    {
     "name": "stdout",
     "output_type": "stream",
     "text": [
      "<class 'pandas.core.frame.DataFrame'>\n",
      "RangeIndex: 110527 entries, 0 to 110526\n",
      "Data columns (total 14 columns):\n",
      " #   Column          Non-Null Count   Dtype  \n",
      "---  ------          --------------   -----  \n",
      " 0   PatientId       110527 non-null  float64\n",
      " 1   AppointmentID   110527 non-null  int64  \n",
      " 2   Gender          110527 non-null  object \n",
      " 3   ScheduledDay    110527 non-null  object \n",
      " 4   AppointmentDay  110527 non-null  object \n",
      " 5   Age             110527 non-null  int64  \n",
      " 6   Neighbourhood   110527 non-null  object \n",
      " 7   Scholarship     110527 non-null  int64  \n",
      " 8   Hipertension    110527 non-null  int64  \n",
      " 9   Diabetes        110527 non-null  int64  \n",
      " 10  Alcoholism      110527 non-null  int64  \n",
      " 11  Handcap         110527 non-null  int64  \n",
      " 12  SMS_received    110527 non-null  int64  \n",
      " 13  No-show         110527 non-null  object \n",
      "dtypes: float64(1), int64(8), object(5)\n",
      "memory usage: 11.8+ MB\n"
     ]
    }
   ],
   "source": [
    "ns.info()"
   ]
  },
  {
   "cell_type": "markdown",
   "metadata": {},
   "source": [
    "### Note: \n",
    "Do not have null values in any of the columns, so we skip the fillna step"
   ]
  },
  {
   "cell_type": "markdown",
   "metadata": {},
   "source": [
    "## 1. First, will graph numerical variables to see how scattered are the data"
   ]
  },
  {
   "cell_type": "code",
   "execution_count": 8,
   "metadata": {},
   "outputs": [
    {
     "data": {
      "image/png": "[encoded data removed]",
      "text/plain": [
       "<Figure size 720x720 with 9 Axes>"
      ]
     },
     "metadata": {
      "needs_background": "light"
     },
     "output_type": "display_data"
    }
   ],
   "source": [
    "ns.hist(figsize=(10,10));"
   ]
  },
  {
   "cell_type": "markdown",
   "metadata": {},
   "source": [
    "### No show variable is categorical, will transform to numerical through a function, and then graph this variable itself"
   ]
  },
  {
   "cell_type": "code",
   "execution_count": 9,
   "metadata": {},
   "outputs": [],
   "source": [
    "#Transform No Show variable (target) to numeric\n",
    "def noshow_num(var):\n",
    "    if var == \"Yes\":\n",
    "        NS = 1\n",
    "    else:\n",
    "        NS = 0\n",
    "    return NS\n",
    "\n",
    "ns[\"NS\"] = ns[\"No-show\"].apply(noshow_num)\n",
    "ns.drop(\"No-show\", axis=1, inplace = True)\n"
   ]
  },
  {
   "cell_type": "code",
   "execution_count": 10,
   "metadata": {},
   "outputs": [
    {
     "data": {
      "text/plain": [
       "0    79.806744\n",
       "1    20.193256\n",
       "Name: NS, dtype: float64"
      ]
     },
     "execution_count": 10,
     "metadata": {},
     "output_type": "execute_result"
    },
    {
     "data": {
      "image/png": "[encoded data removed]",
      "text/plain": [
       "<Figure size 432x288 with 1 Axes>"
      ]
     },
     "metadata": {
      "needs_background": "light"
     },
     "output_type": "display_data"
    }
   ],
   "source": [
    "ns[\"NS\"].plot.hist(bins= 10, rwidth = 0.8)\n",
    "ns[\"NS\"].value_counts(normalize=True).sort_index()*100\n"
   ]
  },
  {
   "cell_type": "markdown",
   "metadata": {},
   "source": [
    "Around 20% of the data has a \"no-show\" value and the remaining 80% effectively attends to their health appointment"
   ]
  },
  {
   "cell_type": "markdown",
   "metadata": {},
   "source": [
    "## 2. Drop some columns and create new ones\n",
    "- Not using AppointmentID \n",
    "- Keep PatientID just to analyze some cases if necessary \n",
    "- From dates of appointment, will create new fields, like year, month, and day of the week\n",
    "- Create a new field called Distance (in days), from schedule and appointment, want to see if urgent or programmed health examination makes a difference\n",
    "- Inspect Age variable to validate that values are correct"
   ]
  },
  {
   "cell_type": "code",
   "execution_count": 11,
   "metadata": {},
   "outputs": [],
   "source": [
    "# Dates come in string format, need to select partial text to create new variables\n",
    "# Example: 2016-04-29T18:38:08Z\n",
    "\n",
    "ns[\"Date_Scheduled\"] = pd.to_datetime(ns[\"ScheduledDay\"].str.slice(start=0, stop = 10), format = \"%Y-%m-%d\")\n",
    "ns[\"Date_Appointment\"] = ns[\"AppointmentDay\"].astype('datetime64[ns]')\n",
    "\n",
    "ns[\"distance\"] = (ns[\"Date_Appointment\"] - ns[\"Date_Scheduled\"]).dt.days\n",
    "\n",
    "ns[\"year_scheduled\"] = ns['ScheduledDay'].str.slice(start = 0, stop = 4).astype(int)\n",
    "ns[\"month_scheduled\"] = ns['ScheduledDay'].str.slice(start = 6, stop = 7).astype(int)\n",
    "ns[\"day_scheduled\"] = ns['ScheduledDay'].str.slice(start = 9, stop = 10).astype(int)\n",
    "\n",
    "ns[\"year_appointment\"] = ns['AppointmentDay'].str.slice(start = 0, stop = 4).astype(int)\n",
    "ns[\"month_appointment\"] = ns['AppointmentDay'].str.slice(start = 6, stop = 7).astype(int)\n",
    "ns[\"day_appointment\"] = ns['AppointmentDay'].str.slice(start = 9, stop = 10).astype(int)\n",
    "\n"
   ]
  },
  {
   "cell_type": "code",
   "execution_count": 28,
   "metadata": {},
   "outputs": [
    {
     "data": {
      "image/png": "[encoded data removed]",
      "text/plain": [
       "<Figure size 432x288 with 1 Axes>"
      ]
     },
     "metadata": {
      "needs_background": "light"
     },
     "output_type": "display_data"
    }
   ],
   "source": [
    "# Inspect Age variable\n",
    "ns[\"Age\"].hist()\n",
    "plt.title('Age Histogram');"
   ]
  },
  {
   "cell_type": "code",
   "execution_count": 30,
   "metadata": {},
   "outputs": [
    {
     "data": {
      "image/png": "[encoded data removed]",
      "text/plain": [
       "<Figure size 432x288 with 1 Axes>"
      ]
     },
     "metadata": {
      "needs_background": "light"
     },
     "output_type": "display_data"
    }
   ],
   "source": [
    "age_data = ns[\"Age\"].value_counts().sort_index(ascending = True)\n",
    "#display(age_data)\n",
    "plt.plot(age_data)\n",
    "plt.title('Age Count Value');"
   ]
  },
  {
   "cell_type": "code",
   "execution_count": 15,
   "metadata": {},
   "outputs": [
    {
     "name": "stdout",
     "output_type": "stream",
     "text": [
      "Average age is 37.08887421173107\n"
     ]
    }
   ],
   "source": [
    "avg_age = np.nanmean(ns[\"Age\"])\n",
    "#print(\"Average age is \"  + str(avg_age))\n",
    "print(\"Average age is \"+ str(avg_age))"
   ]
  },
  {
   "cell_type": "code",
   "execution_count": 16,
   "metadata": {},
   "outputs": [
    {
     "name": "stdout",
     "output_type": "stream",
     "text": [
      "Average age is 37.08887421173107\n"
     ]
    },
    {
     "data": {
      "text/plain": [
       "-1         1\n",
       " 0      3539\n",
       " 1      2273\n",
       " 2      1618\n",
       " 3      1513\n",
       " 4      1299\n",
       " 5      1489\n",
       " 6      1521\n",
       " 7      1427\n",
       " 8      1424\n",
       " 9      1372\n",
       " 10     1274\n",
       " 11     1195\n",
       " 12     1092\n",
       " 13     1103\n",
       " 14     1118\n",
       " 15     1211\n",
       " 16     1402\n",
       " 17     1509\n",
       " 18     1487\n",
       " 19     1545\n",
       " 20     1437\n",
       " 21     1452\n",
       " 22     1376\n",
       " 23     1349\n",
       " 24     1242\n",
       " 25     1332\n",
       " 26     1283\n",
       " 27     1377\n",
       " 28     1448\n",
       " 29     1403\n",
       " 30     1521\n",
       " 31     1439\n",
       " 32     1505\n",
       " 33     1524\n",
       " 34     1526\n",
       " 35     1378\n",
       " 36     1580\n",
       " 37     1533\n",
       " 38     1629\n",
       " 39     1536\n",
       " 40     1402\n",
       " 41     1346\n",
       " 42     1272\n",
       " 43     1344\n",
       " 44     1487\n",
       " 45     1453\n",
       " 46     1460\n",
       " 47     1394\n",
       " 48     1399\n",
       " 49     1652\n",
       " 50     1613\n",
       " 51     1567\n",
       " 52     1746\n",
       " 53     1651\n",
       " 54     1530\n",
       " 55     1425\n",
       " 56     1635\n",
       " 57     1603\n",
       " 58     1469\n",
       " 59     1624\n",
       " 60     1411\n",
       " 61     1343\n",
       " 62     1312\n",
       " 63     1374\n",
       " 64     1331\n",
       " 65     1101\n",
       " 66     1187\n",
       " 67      973\n",
       " 68     1012\n",
       " 69      832\n",
       " 70      724\n",
       " 71      695\n",
       " 72      615\n",
       " 73      725\n",
       " 74      602\n",
       " 75      544\n",
       " 76      571\n",
       " 77      527\n",
       " 78      541\n",
       " 79      390\n",
       " 80      511\n",
       " 81      434\n",
       " 82      392\n",
       " 83      280\n",
       " 84      311\n",
       " 85      275\n",
       " 86      260\n",
       " 87      184\n",
       " 88      126\n",
       " 89      173\n",
       " 90      109\n",
       " 91       66\n",
       " 92       86\n",
       " 93       53\n",
       " 94       33\n",
       " 95       24\n",
       " 96       17\n",
       " 97       11\n",
       " 98        6\n",
       " 99        1\n",
       " 100       4\n",
       " 102       2\n",
       " 115       5\n",
       "Name: Age, dtype: int64"
      ]
     },
     "metadata": {},
     "output_type": "display_data"
    },
    {
     "data": {
      "text/plain": [
       "[<matplotlib.lines.Line2D at 0x11a20812508>]"
      ]
     },
     "execution_count": 16,
     "metadata": {},
     "output_type": "execute_result"
    },
    {
     "data": {
      "image/png": "[encoded data removed]",
      "text/plain": [
       "<Figure size 432x288 with 1 Axes>"
      ]
     },
     "metadata": {
      "needs_background": "light"
     },
     "output_type": "display_data"
    }
   ],
   "source": [
    "print(\"Average age is \"+ str(np.mean(ns[\"Age\"])))\n",
    "age_data_fixed = ns[\"Age\"].value_counts().sort_index(ascending = True)\n",
    "display(age_data_fixed)\n",
    "plt.plot(age_data_fixed)"
   ]
  },
  {
   "cell_type": "markdown",
   "metadata": {},
   "source": [
    "### Create 2 variables (show, no-show), to make it easier to graph how the independent variables moves along the attendance"
   ]
  },
  {
   "cell_type": "code",
   "execution_count": 17,
   "metadata": {},
   "outputs": [],
   "source": [
    "show = ns.NS == False\n",
    "no_show = ns.NS == True\n",
    "\n",
    "\n",
    "#print ( ns.Age[show].mean() )\n",
    "#print ( ns.Age[no_show].mean() )\n"
   ]
  },
  {
   "cell_type": "markdown",
   "metadata": {},
   "source": [
    "### Research question: Is Age variable, making any difference on no-show data?"
   ]
  },
  {
   "cell_type": "code",
   "execution_count": 18,
   "metadata": {},
   "outputs": [
    {
     "data": {
      "image/png": "[encoded data removed]",
      "text/plain": [
       "<Figure size 432x288 with 1 Axes>"
      ]
     },
     "metadata": {
      "needs_background": "light"
     },
     "output_type": "display_data"
    }
   ],
   "source": [
    "#Attendance histogram along age\n",
    "\n",
    "fig, ax = plt.subplots()\n",
    "ax.hist(ns.Age[show], bins = 20, alpha = 0.5, label=\"show\", edgecolor='black')\n",
    "ax.hist(ns.Age[no_show], bins = 20, alpha = 0.5, label=\"no-show\", edgecolor='black')\n",
    "ax.set_title(\"Histogram\")\n",
    "ax.set_xlabel(\"Age\")\n",
    "ax.set_ylabel(\"Percentage\")\n",
    "ax.yaxis.set_major_formatter(ticker.PercentFormatter(xmax=len(ns)))\n",
    "plt.legend();\n"
   ]
  },
  {
   "cell_type": "markdown",
   "metadata": {},
   "source": [
    "#### Conclusion: Younger people has more no-show events compared with older ones"
   ]
  },
  {
   "cell_type": "markdown",
   "metadata": {},
   "source": [
    "### Research question: Is Gender variable, making any difference on no-show data?"
   ]
  },
  {
   "cell_type": "code",
   "execution_count": 20,
   "metadata": {},
   "outputs": [
    {
     "data": {
      "image/png": "[encoded data removed]",
      "text/plain": [
       "<Figure size 432x288 with 1 Axes>"
      ]
     },
     "metadata": {
      "needs_background": "light"
     },
     "output_type": "display_data"
    }
   ],
   "source": [
    "#Attendance histogram along gender\n",
    "\n",
    "fig, ax = plt.subplots()\n",
    "ax.hist(ns.Gender[show], bins = 3, alpha = 0.5, label=\"show\", edgecolor='black')\n",
    "ax.hist(ns.Gender[no_show], bins = 3, alpha = 0.5, label=\"no-show\", edgecolor='black')\n",
    "ax.set_title(\"Histogram\")\n",
    "ax.set_xlabel(\"Gender\")\n",
    "ax.set_ylabel(\"Percentage\")\n",
    "ax.yaxis.set_major_formatter(ticker.PercentFormatter(xmax=len(ns)))\n",
    "plt.legend();"
   ]
  },
  {
   "cell_type": "markdown",
   "metadata": {},
   "source": [
    "#### Conclusion about gender: Female people has more no-show events compared to men, maybe them has more problems attending to their appointments"
   ]
  },
  {
   "cell_type": "markdown",
   "metadata": {},
   "source": [
    "### Research question: Is distance variable, making any difference on no-show data?"
   ]
  },
  {
   "cell_type": "code",
   "execution_count": 21,
   "metadata": {},
   "outputs": [
    {
     "data": {
      "image/png": "[encoded data removed]",
      "text/plain": [
       "<Figure size 432x288 with 1 Axes>"
      ]
     },
     "metadata": {
      "needs_background": "light"
     },
     "output_type": "display_data"
    }
   ],
   "source": [
    "#Attendance histogram along distance from scheduling and appointment\n",
    "\n",
    "fig, ax = plt.subplots()\n",
    "ax.hist(ns.distance[show], bins = 10, alpha = 0.5, label=\"show\", edgecolor='black')\n",
    "ax.hist(ns.distance[no_show], bins = 10, alpha = 0.5, label=\"no-show\", edgecolor='black')\n",
    "ax.set_title(\"Histogram\")\n",
    "ax.set_xlabel(\"Distance in days, from Schedule and Appointment\")\n",
    "ax.set_ylabel(\"Percentage\")\n",
    "ax.yaxis.set_major_formatter(ticker.PercentFormatter(xmax=len(ns)))\n",
    "plt.legend();"
   ]
  },
  {
   "cell_type": "markdown",
   "metadata": {},
   "source": [
    "#### Conclusion: I'm considering that when are a few days from schedule to appointment date, we're talking about an emergency or complex health issue. From day 25 and more, those cases are programmed revision or check of health status. There is a lot of show status in the urgency appointments (about 63%), but there is a considering no-show events, and similar to the \"show\" ones, between 8% and 9%."
   ]
  },
  {
   "cell_type": "markdown",
   "metadata": {},
   "source": [
    "### Research question: Is scholarship variable, making any difference on no-show data?"
   ]
  },
  {
   "cell_type": "code",
   "execution_count": 24,
   "metadata": {},
   "outputs": [
    {
     "data": {
      "image/png": "[encoded data removed]",
      "text/plain": [
       "<Figure size 432x288 with 1 Axes>"
      ]
     },
     "metadata": {
      "needs_background": "light"
     },
     "output_type": "display_data"
    }
   ],
   "source": [
    "## Attendance histogram along Scholarship\n",
    "\n",
    "fig, ax = plt.subplots()\n",
    "ax.hist(ns.Scholarship[show], bins = 2, alpha = 0.5, label=\"show\", edgecolor='black')\n",
    "ax.hist(ns.Scholarship[no_show], bins = 2, alpha = 0.5, label=\"no-show\", edgecolor='black')\n",
    "ax.set_title(\"Histogram\")\n",
    "ax.set_xlabel(\"Scholarship\")\n",
    "ax.set_ylabel(\"Percentage\")\n",
    "ax.yaxis.set_major_formatter(ticker.PercentFormatter(xmax=len(ns)))\n",
    "plt.legend();"
   ]
  },
  {
   "cell_type": "markdown",
   "metadata": {},
   "source": [
    "#### Conclusion: People without scholarship support has higher amount of no-show appointments. "
   ]
  },
  {
   "cell_type": "markdown",
   "metadata": {},
   "source": [
    "#### Analyze another variables from the dataset"
   ]
  },
  {
   "cell_type": "code",
   "execution_count": 22,
   "metadata": {},
   "outputs": [
    {
     "data": {
      "image/png": "[encoded data removed]",
      "text/plain": [
       "<Figure size 432x288 with 1 Axes>"
      ]
     },
     "metadata": {
      "needs_background": "light"
     },
     "output_type": "display_data"
    }
   ],
   "source": [
    "#Attendance histogram along alcoholism\n",
    "\n",
    "fig, ax = plt.subplots()\n",
    "ax.hist(ns.Alcoholism[show], bins = 2, alpha = 0.5, label=\"show\", edgecolor='black')\n",
    "ax.hist(ns.Alcoholism[no_show], bins = 2, alpha = 0.5, label=\"no-show\", edgecolor='black')\n",
    "ax.set_title(\"Histogram\")\n",
    "ax.set_xlabel(\"Alcoholism\")\n",
    "ax.set_ylabel(\"Percentage\")\n",
    "ax.yaxis.set_major_formatter(ticker.PercentFormatter(xmax=len(ns)))\n",
    "plt.legend();"
   ]
  },
  {
   "cell_type": "code",
   "execution_count": 37,
   "metadata": {},
   "outputs": [
    {
     "data": {
      "image/png": "[encoded data removed]",
      "text/plain": [
       "<Figure size 432x288 with 1 Axes>"
      ]
     },
     "metadata": {
      "needs_background": "light"
     },
     "output_type": "display_data"
    }
   ],
   "source": [
    "#Attendance histogram along Hipertension\n",
    "\n",
    "fig, ax = plt.subplots()\n",
    "ax.hist(ns.Hipertension[show], bins = 2, alpha = 0.5, label=\"show\", edgecolor='black')\n",
    "ax.hist(ns.Hipertension[no_show], bins = 2, alpha = 0.5, label=\"no-show\", edgecolor='black')\n",
    "ax.set_title(\"Histogram\")\n",
    "ax.set_xlabel(\"Hipertension\")\n",
    "ax.set_ylabel(\"Percentage\")\n",
    "ax.yaxis.set_major_formatter(ticker.PercentFormatter(xmax=len(ns)))\n",
    "plt.legend();"
   ]
  },
  {
   "cell_type": "code",
   "execution_count": 36,
   "metadata": {},
   "outputs": [
    {
     "data": {
      "image/png": "[encoded data removed]",
      "text/plain": [
       "<Figure size 432x288 with 1 Axes>"
      ]
     },
     "metadata": {
      "needs_background": "light"
     },
     "output_type": "display_data"
    }
   ],
   "source": [
    "#Attendance histogram along Diabetes\n",
    "\n",
    "fig, ax = plt.subplots()\n",
    "ax.hist(ns.Diabetes[show], bins = 2, alpha = 0.5, label=\"show\", edgecolor='black')\n",
    "ax.hist(ns.Diabetes[no_show], bins = 2, alpha = 0.5, label=\"no-show\", edgecolor='black')\n",
    "ax.set_title(\"Histogram\")\n",
    "ax.set_xlabel(\"Diabetes\")\n",
    "ax.set_ylabel(\"Percentage\")\n",
    "ax.yaxis.set_major_formatter(ticker.PercentFormatter(xmax=len(ns)))\n",
    "plt.legend();"
   ]
  },
  {
   "cell_type": "code",
   "execution_count": 35,
   "metadata": {},
   "outputs": [
    {
     "data": {
      "image/png": "[encoded data removed]",
      "text/plain": [
       "<Figure size 432x288 with 1 Axes>"
      ]
     },
     "metadata": {
      "needs_background": "light"
     },
     "output_type": "display_data"
    }
   ],
   "source": [
    "#Attendance histogram along Handcap\n",
    "\n",
    "fig, ax = plt.subplots()\n",
    "ax.hist(ns.Diabetes[show], bins = 2, alpha = 0.5, label=\"show\", edgecolor='black')\n",
    "ax.hist(ns.Diabetes[no_show], bins = 2, alpha = 0.5, label=\"no-show\", edgecolor='black')\n",
    "ax.set_title(\"Histogram\")\n",
    "ax.set_xlabel(\"Handcap\")\n",
    "ax.set_ylabel(\"Percentage\")\n",
    "ax.yaxis.set_major_formatter(ticker.PercentFormatter(xmax=len(ns)))\n",
    "plt.legend();"
   ]
  },
  {
   "cell_type": "code",
   "execution_count": 34,
   "metadata": {},
   "outputs": [
    {
     "data": {
      "image/png": "[encoded data removed]",
      "text/plain": [
       "<Figure size 432x288 with 1 Axes>"
      ]
     },
     "metadata": {
      "needs_background": "light"
     },
     "output_type": "display_data"
    }
   ],
   "source": [
    "#Attendance histogram along SMS_received\n",
    "\n",
    "fig, ax = plt.subplots()\n",
    "ax.hist(ns.SMS_received[show], bins = 2, alpha = 0.5, label=\"show\", edgecolor='black')\n",
    "ax.hist(ns.SMS_received[no_show], bins = 2, alpha = 0.5, label=\"no-show\", edgecolor='black')\n",
    "ax.set_title(\"Histogram\")\n",
    "ax.set_xlabel(\"SMS_received\")\n",
    "ax.set_ylabel(\"Percentage\")\n",
    "ax.yaxis.set_major_formatter(ticker.PercentFormatter(xmax=len(ns)))\n",
    "plt.legend();"
   ]
  },
  {
   "cell_type": "markdown",
   "metadata": {},
   "source": [
    "#### We can see that people with alcoholism, hipertension, diabetes and handcap is not making that a person make a no-show appointment.\n",
    "#### People recieving a SMS notification has very similar percentage (about 9%) of no-show events. It can say that the notification to health appointments doesn't make any difference in those patients"
   ]
  },
  {
   "cell_type": "markdown",
   "metadata": {},
   "source": [
    "#### Conclusions:\n",
    "#### - The data set provided, was sufficient to find some insights, but I expected that some people health conditions expressed in the binary variables can show some difference on no-show appointments.\n",
    "#### - The \"distance\" variable created from the provided data, help to understand the behaviour and differences when people are ill and need an urgency attention or regular health checking."
   ]
  },
  {
   "cell_type": "code",
   "execution_count": null,
   "metadata": {},
   "outputs": [],
   "source": []
  }
 ],
 "metadata": {
  "kernelspec": {
   "display_name": "Python 3",
   "language": "python",
   "name": "python3"
  },
  "language_info": {
   "codemirror_mode": {
    "name": "ipython",
    "version": 3
   },
   "file_extension": ".py",
   "mimetype": "text/x-python",
   "name": "python",
   "nbconvert_exporter": "python",
   "pygments_lexer": "ipython3",
   "version": "3.7.6"
  }
 },
 "nbformat": 4,
 "nbformat_minor": 4
}
